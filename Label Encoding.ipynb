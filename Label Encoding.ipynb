{
 "cells": [
  {
   "cell_type": "code",
   "execution_count": 1,
   "id": "964c1c86",
   "metadata": {},
   "outputs": [],
   "source": [
    "#Label encoding for 'supplier_item_code' feature\n",
    "import pandas as pd\n",
    "from sklearn.preprocessing import LabelEncoder\n",
    "from sklearn.preprocessing import MinMaxScaler\n",
    "\n",
    "data_path = r'C:\\Users\\name\\OneDrive\\Documents\\Computer Science Masters\\Independent Research Project\\Summative Assessment\\Artefact Directory\\Original Train, Val and Test data.xlsx'\n",
    "\n",
    "df_train = pd.read_excel(data_path,sheet_name='Train')\n",
    "df_validation = pd.read_excel(data_path,sheet_name='Validation')\n",
    "df_test = pd.read_excel(data_path,sheet_name='Test')\n",
    "df_toencode = pd.read_excel(data_path,sheet_name='to_encode')\n",
    "lab = LabelEncoder()\n",
    "lab.fit(df_toencode['supplier_item_code'])\n",
    "df_train['supplier_item_code'] = lab.transform(df_train['supplier_item_code'])\n",
    "df_validation['supplier_item_code'] = lab.transform(df_validation['supplier_item_code'])\n",
    "df_test['supplier_item_code'] = lab.transform(df_test['supplier_item_code'])\n",
    "df_train.to_excel(\"train_data.xlsx\",sheet_name='Train')\n",
    "df_validation.to_excel(\"validation_data.xlsx\",sheet_name='Validation')\n",
    "df_test.to_excel(\"test_data.xlsx\",sheet_name='Test')"
   ]
  }
 ],
 "metadata": {
  "kernelspec": {
   "display_name": "Python 3 (ipykernel)",
   "language": "python",
   "name": "python3"
  },
  "language_info": {
   "codemirror_mode": {
    "name": "ipython",
    "version": 3
   },
   "file_extension": ".py",
   "mimetype": "text/x-python",
   "name": "python",
   "nbconvert_exporter": "python",
   "pygments_lexer": "ipython3",
   "version": "3.8.12"
  }
 },
 "nbformat": 4,
 "nbformat_minor": 5
}
